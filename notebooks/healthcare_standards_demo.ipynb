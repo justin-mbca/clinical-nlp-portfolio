{
 "cells": [
  {
   "cell_type": "markdown",
   "id": "19ddac73",
   "metadata": {},
   "source": [
    "# Healthcare Data Standards Demo\n",
    "Parse and visualize FHIR and ICD data using custom parsers."
   ]
  },
  {
   "cell_type": "code",
   "execution_count": null,
   "id": "4be0177e",
   "metadata": {},
   "outputs": [],
   "source": [
    "from src.healthcare_standards.fhir_parser import parse_fhir_resource\n",
    "from src.healthcare_standards.icd_parser import parse_icd_code\n",
    "fhir_json = '{\"resourceType\": \"Patient\", \"id\": \"123\"}'\n",
    "print(parse_fhir_resource(fhir_json))\n",
    "print(parse_icd_code('E11'))"
   ]
  }
 ],
 "metadata": {
  "language_info": {
   "name": "python"
  }
 },
 "nbformat": 4,
 "nbformat_minor": 5
}
