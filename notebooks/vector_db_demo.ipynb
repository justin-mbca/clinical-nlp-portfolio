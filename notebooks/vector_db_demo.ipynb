{
 "cells": [
  {
   "cell_type": "markdown",
   "id": "d45f9f41",
   "metadata": {},
   "source": [
    "# VectorDB Integration Demo\n",
    "Simulate vector-based memory for agents using VectorMemory."
   ]
  },
  {
   "cell_type": "code",
   "execution_count": null,
   "id": "b6103f19",
   "metadata": {},
   "outputs": [],
   "source": [
    "from src.vector_db.vector_memory import VectorMemory\n",
    "memory = VectorMemory()\n",
    "memory.add_vector('ClaimsAgent', [0.1, 0.2, 0.3])\n",
    "print(memory.get_vectors('ClaimsAgent'))"
   ]
  }
 ],
 "metadata": {
  "language_info": {
   "name": "python"
  }
 },
 "nbformat": 4,
 "nbformat_minor": 5
}
