{
 "cells": [
  {
   "cell_type": "markdown",
   "id": "67bc67fa",
   "metadata": {},
   "source": [
    "# Agent-to-Agent Protocols Demo\n",
    "Demonstrate message passing and collaboration between agents using the A2A protocol."
   ]
  },
  {
   "cell_type": "code",
   "execution_count": null,
   "id": "75ef92fa",
   "metadata": {},
   "outputs": [],
   "source": [
    "from src.agents.a2a_protocol import ClaimsAgent, EligibilityAgent\n",
    "claims = ClaimsAgent('ClaimsAgent')\n",
    "eligibility = EligibilityAgent('EligibilityAgent')\n",
    "claims.send_message(eligibility, 'Request eligibility check for patient 123')"
   ]
  }
 ],
 "metadata": {
  "language_info": {
   "name": "python"
  }
 },
 "nbformat": 4,
 "nbformat_minor": 5
}
