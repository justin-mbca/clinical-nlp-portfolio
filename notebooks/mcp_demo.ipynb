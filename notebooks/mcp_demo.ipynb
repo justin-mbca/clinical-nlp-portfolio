{
 "cells": [
  {
   "cell_type": "markdown",
   "id": "d84d01a8",
   "metadata": {},
   "source": [
    "# Model Context Protocol (MCP) Demo\n",
    "Show persistent, context-aware memory for agent interactions."
   ]
  },
  {
   "cell_type": "code",
   "execution_count": null,
   "id": "6677e5f9",
   "metadata": {},
   "outputs": [],
   "source": [
    "from src.agents.mcp import ModelContext\n",
    "context = ModelContext()\n",
    "context.update_context('ClaimsAgent', 'Checked eligibility for patient 123')\n",
    "print(context.get_context('ClaimsAgent'))"
   ]
  }
 ],
 "metadata": {
  "language_info": {
   "name": "python"
  }
 },
 "nbformat": 4,
 "nbformat_minor": 5
}
