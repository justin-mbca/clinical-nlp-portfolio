{
 "cells": [
  {
   "cell_type": "markdown",
   "id": "25e85446",
   "metadata": {},
   "source": [
    "# Recruiter-Ready Clinical NLP Agents Portfolio\n",
    "This notebook demonstrates a modular, agentic architecture for clinical NLP workflows using synthetic and public data.\n",
    "\n",
    "**Key Features:**\n",
    "- Each agent (Claims, Eligibility, De-identification, Cohort Phenotyping, Coding, Retrieval, Summary, Risk Prediction, Care Coordination) is implemented in a dedicated section.\n",
    "- Synthetic or public datasets are used for all demonstrations, ensuring privacy and reproducibility.\n",
    "- Each section includes markdown explanations of the agent’s role, workflow, and example code.\n",
    "- The final section summarizes how agents can be orchestrated for real-world clinical operations, analytics, and decision support.\n",
    "\n",
    "Use this notebook to showcase advanced healthcare AI skills, modular design, and practical agentic workflows to recruiters and collaborators."
   ]
  },
  {
   "cell_type": "markdown",
   "id": "50f24aec",
   "metadata": {},
   "source": [
    "# Clinical NLP Agents & Architectures Demo\n",
    "\n",
    "This notebook integrates all advanced modules required for agentic healthcare NLP workflows:\n",
    "- Agent-to-Agent Protocols (A2A)\n",
    "- Model Context Protocol (MCP)\n",
    "- Retrieval-Augmented Generation (RAG)\n",
    "- Healthcare Data Standards (FHIR, ICD)\n",
    "- VectorDB Integration\n",
    "\n",
    "## Table of Contents\n",
    "1. Agent-to-Agent Protocols (A2A)\n",
    "2. Model Context Protocol (MCP)\n",
    "3. Retrieval-Augmented Generation (RAG)\n",
    "4. Healthcare Data Standards (FHIR, ICD)\n",
    "5. VectorDB Integration\n",
    "6. Summary & Next Steps"
   ]
  },
  {
   "cell_type": "code",
   "execution_count": 22,
   "id": "ef680939",
   "metadata": {},
   "outputs": [],
   "source": [
    "# Add src directory to Python path for module imports\n",
    "import sys\n",
    "import os\n",
    "sys.path.append(os.path.abspath(\"../src\"))"
   ]
  },
  {
   "cell_type": "markdown",
   "id": "8ceb7c82",
   "metadata": {},
   "source": [
    "## 1. Agent-to-Agent Protocols (A2A)\n",
    "Demonstrate message passing and collaboration between agents using the A2A protocol."
   ]
  },
  {
   "cell_type": "code",
   "execution_count": 23,
   "id": "2aa52903",
   "metadata": {},
   "outputs": [
    {
     "name": "stdout",
     "output_type": "stream",
     "text": [
      "EligibilityAgent received from ClaimsAgent: Request eligibility check for patient 123\n"
     ]
    }
   ],
   "source": [
    "from agents.a2a_protocol import ClaimsAgent, EligibilityAgent\n",
    "claims = ClaimsAgent('ClaimsAgent')\n",
    "eligibility = EligibilityAgent('EligibilityAgent')\n",
    "claims.send_message(eligibility, 'Request eligibility check for patient 123')"
   ]
  },
  {
   "cell_type": "markdown",
   "id": "03f89485",
   "metadata": {},
   "source": [
    "## 2. Model Context Protocol (MCP)\n",
    "Show persistent, context-aware memory for agent interactions."
   ]
  },
  {
   "cell_type": "code",
   "execution_count": 24,
   "id": "de06fe36",
   "metadata": {},
   "outputs": [
    {
     "name": "stdout",
     "output_type": "stream",
     "text": [
      "['Checked eligibility for patient 123']\n"
     ]
    }
   ],
   "source": [
    "from agents.mcp import ModelContext\n",
    "context = ModelContext()\n",
    "context.update_context('ClaimsAgent', 'Checked eligibility for patient 123')\n",
    "print(context.get_context('ClaimsAgent'))"
   ]
  },
  {
   "cell_type": "markdown",
   "id": "f590888c",
   "metadata": {},
   "source": [
    "## 3. Retrieval-Augmented Generation (RAG)\n",
    "Integrate document retrieval with LLM-based answer generation."
   ]
  },
  {
   "cell_type": "code",
   "execution_count": 25,
   "id": "3d2c22fc",
   "metadata": {},
   "outputs": [
    {
     "name": "stdout",
     "output_type": "stream",
     "text": [
      "LLM answer based on: Patient 123 has diabetes.\n"
     ]
    }
   ],
   "source": [
    "from rag.rag_pipeline import SimpleRAG\n",
    "def dummy_retriever(query, docs): return docs[0]\n",
    "def dummy_generator(text): return f'LLM answer based on: {text}'\n",
    "rag = SimpleRAG(dummy_retriever, dummy_generator)\n",
    "docs = ['Patient 123 has diabetes.', 'Patient 456 has hypertension.']\n",
    "print(rag.answer_query('What is the diagnosis for patient 123?', docs))"
   ]
  },
  {
   "cell_type": "markdown",
   "id": "e45b61b2",
   "metadata": {},
   "source": [
    "## 4. Healthcare Data Standards (FHIR, ICD)\n",
    "Parse and visualize FHIR and ICD data using custom parsers."
   ]
  },
  {
   "cell_type": "code",
   "execution_count": 26,
   "id": "b88570ef",
   "metadata": {},
   "outputs": [
    {
     "name": "stdout",
     "output_type": "stream",
     "text": [
      "('Patient', '123')\n",
      "('ICD-10', 'Endocrine disease')\n"
     ]
    }
   ],
   "source": [
    "from healthcare_standards.fhir_parser import parse_fhir_resource\n",
    "from healthcare_standards.icd_parser import parse_icd_code\n",
    "fhir_json = '{\"resourceType\": \"Patient\", \"id\": \"123\"}'\n",
    "print(parse_fhir_resource(fhir_json))\n",
    "print(parse_icd_code('E11'))"
   ]
  },
  {
   "cell_type": "markdown",
   "id": "8d0c116c",
   "metadata": {},
   "source": [
    "## 5. VectorDB Integration\n",
    "Simulate vector-based memory for agents using VectorMemory."
   ]
  },
  {
   "cell_type": "code",
   "execution_count": 27,
   "id": "b45d27f9",
   "metadata": {},
   "outputs": [
    {
     "name": "stdout",
     "output_type": "stream",
     "text": [
      "[[0.1, 0.2, 0.3]]\n"
     ]
    }
   ],
   "source": [
    "from vector_db.vector_memory import VectorMemory\n",
    "memory = VectorMemory()\n",
    "memory.add_vector('ClaimsAgent', [0.1, 0.2, 0.3])\n",
    "print(memory.get_vectors('ClaimsAgent'))"
   ]
  },
  {
   "cell_type": "markdown",
   "id": "400e0865",
   "metadata": {},
   "source": [
    "## 6. Summary & Next Steps\n",
    "This notebook demonstrates all advanced agentic and LLM-powered modules required for modern healthcare NLP workflows.\n",
    "- Extend each section for production use cases\n",
    "- Integrate with real EHR/claims data\n",
    "- Add cloud-native deployment and MLOps scripts as needed"
   ]
  },
  {
   "cell_type": "markdown",
   "id": "52c4be53",
   "metadata": {},
   "source": [
    "# Add parent directory to Python path for src imports\n",
    "import sys\n",
    "import os\n",
    "sys.path.append(os.path.abspath(\"..\"))"
   ]
  },
  {
   "cell_type": "markdown",
   "id": "2570c116",
   "metadata": {},
   "source": [
    "# Module Demos: Merged Content\n",
    "The following cells demonstrate agentic modules originally developed in separate notebooks. Imports have been updated for consistency."
   ]
  },
  {
   "cell_type": "code",
   "execution_count": null,
   "id": "553989cc",
   "metadata": {},
   "outputs": [],
   "source": [
    "# Agent-to-Agent Protocols Demo\n",
    "from agents.a2a_protocol import ClaimsAgent, EligibilityAgent\n",
    "claims = ClaimsAgent('ClaimsAgent')\n",
    "eligibility = EligibilityAgent('EligibilityAgent')\n",
    "claims.send_message(eligibility, 'Request eligibility check for patient 123')\n",
    "\n",
    "# Model Context Protocol (MCP) Demo\n",
    "from agents.mcp import ModelContext\n",
    "context = ModelContext()\n",
    "context.update_context('ClaimsAgent', 'Checked eligibility for patient 123')\n",
    "print(context.get_context('ClaimsAgent'))\n",
    "\n",
    "# Retrieval-Augmented Generation (RAG) Demo\n",
    "from rag.rag_pipeline import SimpleRAG\n",
    "def dummy_retriever(query, docs): return docs[0]\n",
    "def dummy_generator(text): return f'LLM answer based on: {text}'\n",
    "rag = SimpleRAG(dummy_retriever, dummy_generator)\n",
    "docs = ['Patient 123 has diabetes.', 'Patient 456 has hypertension.']\n",
    "print(rag.answer_query('What is the diagnosis for patient 123?', docs))\n",
    "\n",
    "# VectorDB Integration Demo\n",
    "from vector_db.vector_memory import VectorMemory\n",
    "memory = VectorMemory()\n",
    "memory.add_vector('ClaimsAgent', [0.1, 0.2, 0.3])\n",
    "print(memory.get_vectors('ClaimsAgent'))\n",
    "\n",
    "# Healthcare Data Standards Demo\n",
    "from healthcare_standards.fhir_parser import parse_fhir_resource\n",
    "from healthcare_standards.icd_parser import parse_icd_code\n",
    "fhir_json = '{\"resourceType\": \"Patient\", \"id\": \"123\"}'\n",
    "print(parse_fhir_resource(fhir_json))\n",
    "print(parse_icd_code('E11'))"
   ]
  }
 ],
 "metadata": {
  "kernelspec": {
   "display_name": ".venv",
   "language": "python",
   "name": "python3"
  },
  "language_info": {
   "codemirror_mode": {
    "name": "ipython",
    "version": 3
   },
   "file_extension": ".py",
   "mimetype": "text/x-python",
   "name": "python",
   "nbconvert_exporter": "python",
   "pygments_lexer": "ipython3",
   "version": "3.13.7"
  }
 },
 "nbformat": 4,
 "nbformat_minor": 5
}
